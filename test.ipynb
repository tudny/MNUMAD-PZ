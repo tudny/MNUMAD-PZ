{
 "cells": [
  {
   "cell_type": "markdown",
   "source": [
    "# Metoda dziel i rządź dla SVD\n",
    "\n",
    "Implementacja metody dziel i zwyciężaj dla SVD.\n",
    "Metoda opisana była na wykładzie.\n",
    "\n",
    "Opis (z grubsza) algorytmu:\n",
    "- Redukcja do macierzy dwudiagonalnej\n",
    "- Rozbicie macierzy\n",
    "- Rozwiązanie problemu SVD dla dwóch mniejszych macierzy\n",
    "- Obliczenie wyniku na podstawie uzyskanych macierzy\n",
    "  - Wyznaczenie wartości własnych mniejszej macierzy\n",
    "  - Deflacja\n",
    "  - Wyszukiwanie miejsc zerowych zadanej funkcji"
   ],
   "metadata": {
    "collapsed": false
   }
  },
  {
   "cell_type": "code",
   "execution_count": 12,
   "metadata": {
    "collapsed": true,
    "ExecuteTime": {
     "end_time": "2023-06-20T16:15:36.174536811Z",
     "start_time": "2023-06-20T16:15:36.145417374Z"
    }
   },
   "outputs": [
    {
     "name": "stdout",
     "output_type": "stream",
     "text": [
      "U jest ortogonalne: True\n",
      "V jest ortogonalne: True\n",
      "U S VT = A        : True\n"
     ]
    }
   ],
   "source": [
    "import numpy as np\n",
    "\n",
    "from divide_and_conquer_svd import divide_and_conquer_svd\n",
    "\n",
    "A = np.array([\n",
    "    [1., 2.],\n",
    "    [3., 4.],\n",
    "    [10., 12.],\n",
    "], dtype=float)\n",
    "m, n = A.shape\n",
    "\n",
    "U, S, VT = divide_and_conquer_svd(A, 1e-8)\n",
    "\n",
    "print('U jest ortogonalne:', np.allclose(U.T @ U, np.eye(m)))\n",
    "print('V jest ortogonalne:', np.allclose(VT.T @ VT, np.eye(n)))\n",
    "print('U S VT = A        :', np.allclose(U @ S @ VT, A))"
   ]
  },
  {
   "cell_type": "code",
   "execution_count": 13,
   "outputs": [
    {
     "name": "stdout",
     "output_type": "stream",
     "text": [
      "||U - I||     : 2.2943767170787948e-07\n",
      "||V - I||     : 7.468229481022694e-07\n",
      "||U S VT - A||: 3.229292507205404e-05\n"
     ]
    }
   ],
   "source": [
    "A = np.array([\n",
    "    [1., 2., 12., -123., 21., 1.],\n",
    "    [3., 4., 23., 123., 67., 9.],\n",
    "    [10., 12., 43., -4., -91., 4.],\n",
    "    [11., -5., -32., 7., 3., -9.],\n",
    "    [-4., 91., 5., 32., -9., 11.],\n",
    "], dtype=float)\n",
    "m, n = A.shape\n",
    "\n",
    "U, S, VT = divide_and_conquer_svd(A, 1e-8)\n",
    "\n",
    "print('||U - I||     :', np.linalg.norm(U.T @ U - np.eye(m)))\n",
    "print('||V - I||     :', np.linalg.norm(VT.T @ VT - np.eye(n)))\n",
    "print('||U S VT - A||:', np.linalg.norm(U @ S @ VT - A))"
   ],
   "metadata": {
    "collapsed": false,
    "ExecuteTime": {
     "end_time": "2023-06-20T16:15:36.216306744Z",
     "start_time": "2023-06-20T16:15:36.200875285Z"
    }
   }
  },
  {
   "cell_type": "code",
   "execution_count": 14,
   "outputs": [
    {
     "name": "stdout",
     "output_type": "stream",
     "text": [
      "||U - I||     : 2.474995428754706e-06\n",
      "||V - I||     : 2.497269993965484e-06\n",
      "||U S VT - A||: 1.2105033860140977e-05\n"
     ]
    }
   ],
   "source": [
    "A = np.random.randn(10, 20)\n",
    "m, n = A.shape\n",
    "\n",
    "U, S, VT = divide_and_conquer_svd(A, 1e-8)\n",
    "\n",
    "print('||U - I||     :', np.linalg.norm(U.T @ U - np.eye(m)))\n",
    "print('||V - I||     :', np.linalg.norm(VT.T @ VT - np.eye(n)))\n",
    "print('||U S VT - A||:', np.linalg.norm(U @ S @ VT - A))"
   ],
   "metadata": {
    "collapsed": false,
    "ExecuteTime": {
     "end_time": "2023-06-20T16:15:36.216691549Z",
     "start_time": "2023-06-20T16:15:36.216137502Z"
    }
   }
  },
  {
   "cell_type": "markdown",
   "source": [
    "A teraz przykład z życia wzięty. Kompresja zdjęć."
   ],
   "metadata": {
    "collapsed": false
   }
  },
  {
   "cell_type": "code",
   "execution_count": 15,
   "outputs": [],
   "source": [
    "from PIL import Image\n",
    "import matplotlib.pyplot as plt\n",
    "\n",
    "\n",
    "def load_image(path_to_image: str, shape: tuple[int, int] = (500, 500), max_len=None) -> np.ndarray:\n",
    "    img = Image.open(path_to_image).convert(\"L\")\n",
    "    if max_len:\n",
    "        max_real_len = max(img.width, img.height)\n",
    "        scale = max_real_len / max_len\n",
    "        new_size = (int(img.width / scale), int(img.height / scale))\n",
    "        img = img.resize(new_size)\n",
    "    else:\n",
    "        img = img.resize(shape)\n",
    "\n",
    "    return np.array(\n",
    "        img,\n",
    "        dtype=float,\n",
    "    )\n",
    "\n",
    "\n",
    "def compress_image(\n",
    "        path_to_image: str,\n",
    "        k: int = 50,\n",
    "        tol: float = 1e-10,\n",
    "        shape: tuple[int, int] = (500, 500),\n",
    "        max_len=None\n",
    "):\n",
    "    image_matrix = load_image(path_to_image, shape=shape, max_len=max_len)\n",
    "    U, S, VT = divide_and_conquer_svd(image_matrix, tol)\n",
    "\n",
    "    U_k = U[:, :k]\n",
    "    S_k = S[:k, :k]\n",
    "    VT_k = VT[:k, :]\n",
    "\n",
    "    compressed = U_k @ S_k @ VT_k\n",
    "    plt.figure(figsize=(10, 5))\n",
    "    plt.subplot(1, 2, 1)\n",
    "    plt.imshow(image_matrix, cmap=\"gray\")\n",
    "    plt.title(\"Original\")\n",
    "    plt.subplot(1, 2, 2)\n",
    "    plt.imshow(compressed, cmap=\"gray\")\n",
    "    plt.title(f\"Reconstructed {k=}\")\n",
    "    plt.show()"
   ],
   "metadata": {
    "collapsed": false,
    "ExecuteTime": {
     "end_time": "2023-06-20T16:15:36.216825304Z",
     "start_time": "2023-06-20T16:15:36.216503418Z"
    }
   }
  },
  {
   "cell_type": "code",
   "execution_count": 16,
   "outputs": [
    {
     "ename": "KeyboardInterrupt",
     "evalue": "",
     "output_type": "error",
     "traceback": [
      "\u001B[0;31m---------------------------------------------------------------------------\u001B[0m",
      "\u001B[0;31mKeyboardInterrupt\u001B[0m                         Traceback (most recent call last)",
      "Cell \u001B[0;32mIn[16], line 1\u001B[0m\n\u001B[0;32m----> 1\u001B[0m \u001B[43mcompress_image\u001B[49m\u001B[43m(\u001B[49m\u001B[38;5;124;43m'\u001B[39;49m\u001B[38;5;124;43mparis.jpg\u001B[39;49m\u001B[38;5;124;43m'\u001B[39;49m\u001B[43m)\u001B[49m\n",
      "Cell \u001B[0;32mIn[15], line 29\u001B[0m, in \u001B[0;36mcompress_image\u001B[0;34m(path_to_image, k, tol, shape, max_len)\u001B[0m\n\u001B[1;32m     21\u001B[0m \u001B[38;5;28;01mdef\u001B[39;00m \u001B[38;5;21mcompress_image\u001B[39m(\n\u001B[1;32m     22\u001B[0m         path_to_image: \u001B[38;5;28mstr\u001B[39m,\n\u001B[1;32m     23\u001B[0m         k: \u001B[38;5;28mint\u001B[39m \u001B[38;5;241m=\u001B[39m \u001B[38;5;241m50\u001B[39m,\n\u001B[0;32m   (...)\u001B[0m\n\u001B[1;32m     26\u001B[0m         max_len\u001B[38;5;241m=\u001B[39m\u001B[38;5;28;01mNone\u001B[39;00m\n\u001B[1;32m     27\u001B[0m ):\n\u001B[1;32m     28\u001B[0m     image_matrix \u001B[38;5;241m=\u001B[39m load_image(path_to_image, shape\u001B[38;5;241m=\u001B[39mshape, max_len\u001B[38;5;241m=\u001B[39mmax_len)\n\u001B[0;32m---> 29\u001B[0m     U, S, VT \u001B[38;5;241m=\u001B[39m \u001B[43mdivide_and_conquer_svd\u001B[49m\u001B[43m(\u001B[49m\u001B[43mimage_matrix\u001B[49m\u001B[43m,\u001B[49m\u001B[43m \u001B[49m\u001B[43mtol\u001B[49m\u001B[43m)\u001B[49m\n\u001B[1;32m     31\u001B[0m     U_k \u001B[38;5;241m=\u001B[39m U[:, :k]\n\u001B[1;32m     32\u001B[0m     S_k \u001B[38;5;241m=\u001B[39m S[:k, :k]\n",
      "File \u001B[0;32m~/Documents/UW/MIMUW/WNUMAD/MNUMAD-PZ/divide_and_conquer_svd.py:45\u001B[0m, in \u001B[0;36mdivide_and_conquer_svd\u001B[0;34m(A, tol)\u001B[0m\n\u001B[1;32m     36\u001B[0m \u001B[38;5;250m\u001B[39m\u001B[38;5;124;03m\"\"\"\u001B[39;00m\n\u001B[1;32m     37\u001B[0m \u001B[38;5;124;03mDivide and conquer SVD algorithm\u001B[39;00m\n\u001B[1;32m     38\u001B[0m \u001B[38;5;124;03mDecomposes a matrix A into U, S, V^T such that A = U S V^T\u001B[39;00m\n\u001B[0;32m   (...)\u001B[0m\n\u001B[1;32m     42\u001B[0m \u001B[38;5;124;03m@return: U, S, V^T such that A = U S V^T (m x m, m x n, n x n)\u001B[39;00m\n\u001B[1;32m     43\u001B[0m \u001B[38;5;124;03m\"\"\"\u001B[39;00m\n\u001B[1;32m     44\u001B[0m \u001B[38;5;28;01massert\u001B[39;00m A\u001B[38;5;241m.\u001B[39mdtype \u001B[38;5;241m==\u001B[39m \u001B[38;5;28mfloat\u001B[39m \u001B[38;5;129;01mor\u001B[39;00m A\u001B[38;5;241m.\u001B[39mdtype \u001B[38;5;241m==\u001B[39m np\u001B[38;5;241m.\u001B[39mfloat\n\u001B[0;32m---> 45\u001B[0m u, s, vt \u001B[38;5;241m=\u001B[39m \u001B[43m_divide_and_conquer_svd\u001B[49m\u001B[43m(\u001B[49m\u001B[43mA\u001B[49m\u001B[43m,\u001B[49m\u001B[43m \u001B[49m\u001B[43mtol\u001B[49m\u001B[38;5;241;43m=\u001B[39;49m\u001B[43mtol\u001B[49m\u001B[43m)\u001B[49m\n\u001B[1;32m     46\u001B[0m \u001B[38;5;66;03m# assert np.allclose(A, u @ s @ vt), \"Decomposition is incorrect\"\u001B[39;00m\n\u001B[1;32m     47\u001B[0m \u001B[38;5;28;01mreturn\u001B[39;00m u, s, vt\n",
      "File \u001B[0;32m~/Documents/UW/MIMUW/WNUMAD/MNUMAD-PZ/divide_and_conquer_svd.py:69\u001B[0m, in \u001B[0;36m_divide_and_conquer_svd\u001B[0;34m(A, tol)\u001B[0m\n\u001B[1;32m     66\u001B[0m b \u001B[38;5;241m=\u001B[39m b[:n, :n]  \u001B[38;5;66;03m# Remove extra rows and columns with zeros\u001B[39;00m\n\u001B[1;32m     68\u001B[0m \u001B[38;5;66;03m# Step 2: Compute SVD of bidiagonal matrix\u001B[39;00m\n\u001B[0;32m---> 69\u001B[0m U, S, V \u001B[38;5;241m=\u001B[39m \u001B[43m_divide_and_conquer_svd_bidiagonal\u001B[49m\u001B[43m(\u001B[49m\u001B[43mb\u001B[49m\u001B[43m,\u001B[49m\u001B[43m \u001B[49m\u001B[43mtol\u001B[49m\u001B[38;5;241;43m=\u001B[39;49m\u001B[43mtol\u001B[49m\u001B[43m)\u001B[49m\n\u001B[1;32m     70\u001B[0m U \u001B[38;5;241m=\u001B[39m block_diag(U, np\u001B[38;5;241m.\u001B[39meye(m \u001B[38;5;241m-\u001B[39m n))\n\u001B[1;32m     71\u001B[0m S \u001B[38;5;241m=\u001B[39m np\u001B[38;5;241m.\u001B[39mblock([[S], [np\u001B[38;5;241m.\u001B[39mzeros((m \u001B[38;5;241m-\u001B[39m n, n))]])\n",
      "File \u001B[0;32m~/Documents/UW/MIMUW/WNUMAD/MNUMAD-PZ/divide_and_conquer_svd.py:143\u001B[0m, in \u001B[0;36m_divide_and_conquer_svd_bidiagonal\u001B[0;34m(B, tol)\u001B[0m\n\u001B[1;32m    140\u001B[0m q_k \u001B[38;5;241m=\u001B[39m B[k, k]\n\u001B[1;32m    141\u001B[0m r_k \u001B[38;5;241m=\u001B[39m B[k, k \u001B[38;5;241m+\u001B[39m \u001B[38;5;241m1\u001B[39m] \u001B[38;5;28;01mif\u001B[39;00m k \u001B[38;5;241m+\u001B[39m \u001B[38;5;241m1\u001B[39m \u001B[38;5;241m<\u001B[39m n \u001B[38;5;28;01melse\u001B[39;00m \u001B[38;5;241m0\u001B[39m\n\u001B[0;32m--> 143\u001B[0m U_1, D_1, V_1T \u001B[38;5;241m=\u001B[39m \u001B[43m_divide_and_conquer_svd\u001B[49m\u001B[43m(\u001B[49m\u001B[43mB_1\u001B[49m\u001B[43m,\u001B[49m\u001B[43m \u001B[49m\u001B[43mtol\u001B[49m\u001B[38;5;241;43m=\u001B[39;49m\u001B[43mtol\u001B[49m\u001B[43m)\u001B[49m\n\u001B[1;32m    144\u001B[0m D_1 \u001B[38;5;241m=\u001B[39m D_1[:, :\u001B[38;5;241m-\u001B[39m\u001B[38;5;241m1\u001B[39m]  \u001B[38;5;66;03m# Remove last column of D_1\u001B[39;00m\n\u001B[1;32m    145\u001B[0m U_2, D_2, V_2T \u001B[38;5;241m=\u001B[39m _divide_and_conquer_svd(B_2, tol\u001B[38;5;241m=\u001B[39mtol)\n",
      "File \u001B[0;32m~/Documents/UW/MIMUW/WNUMAD/MNUMAD-PZ/divide_and_conquer_svd.py:60\u001B[0m, in \u001B[0;36m_divide_and_conquer_svd\u001B[0;34m(A, tol)\u001B[0m\n\u001B[1;32m     58\u001B[0m m, n \u001B[38;5;241m=\u001B[39m A\u001B[38;5;241m.\u001B[39mshape\n\u001B[1;32m     59\u001B[0m \u001B[38;5;28;01mif\u001B[39;00m n \u001B[38;5;241m>\u001B[39m m:\n\u001B[0;32m---> 60\u001B[0m     u, s, v \u001B[38;5;241m=\u001B[39m \u001B[43m_divide_and_conquer_svd\u001B[49m\u001B[43m(\u001B[49m\u001B[43mA\u001B[49m\u001B[38;5;241;43m.\u001B[39;49m\u001B[43mT\u001B[49m\u001B[43m)\u001B[49m\n\u001B[1;32m     61\u001B[0m     \u001B[38;5;28;01mreturn\u001B[39;00m v\u001B[38;5;241m.\u001B[39mT, s\u001B[38;5;241m.\u001B[39mT, u\u001B[38;5;241m.\u001B[39mT\n\u001B[1;32m     63\u001B[0m \u001B[38;5;66;03m# Step 1: Reduce to bidiagonal form\u001B[39;00m\n",
      "File \u001B[0;32m~/Documents/UW/MIMUW/WNUMAD/MNUMAD-PZ/divide_and_conquer_svd.py:69\u001B[0m, in \u001B[0;36m_divide_and_conquer_svd\u001B[0;34m(A, tol)\u001B[0m\n\u001B[1;32m     66\u001B[0m b \u001B[38;5;241m=\u001B[39m b[:n, :n]  \u001B[38;5;66;03m# Remove extra rows and columns with zeros\u001B[39;00m\n\u001B[1;32m     68\u001B[0m \u001B[38;5;66;03m# Step 2: Compute SVD of bidiagonal matrix\u001B[39;00m\n\u001B[0;32m---> 69\u001B[0m U, S, V \u001B[38;5;241m=\u001B[39m \u001B[43m_divide_and_conquer_svd_bidiagonal\u001B[49m\u001B[43m(\u001B[49m\u001B[43mb\u001B[49m\u001B[43m,\u001B[49m\u001B[43m \u001B[49m\u001B[43mtol\u001B[49m\u001B[38;5;241;43m=\u001B[39;49m\u001B[43mtol\u001B[49m\u001B[43m)\u001B[49m\n\u001B[1;32m     70\u001B[0m U \u001B[38;5;241m=\u001B[39m block_diag(U, np\u001B[38;5;241m.\u001B[39meye(m \u001B[38;5;241m-\u001B[39m n))\n\u001B[1;32m     71\u001B[0m S \u001B[38;5;241m=\u001B[39m np\u001B[38;5;241m.\u001B[39mblock([[S], [np\u001B[38;5;241m.\u001B[39mzeros((m \u001B[38;5;241m-\u001B[39m n, n))]])\n",
      "File \u001B[0;32m~/Documents/UW/MIMUW/WNUMAD/MNUMAD-PZ/divide_and_conquer_svd.py:169\u001B[0m, in \u001B[0;36m_divide_and_conquer_svd_bidiagonal\u001B[0;34m(B, tol)\u001B[0m\n\u001B[1;32m    159\u001B[0m C_dash \u001B[38;5;241m=\u001B[39m block_diag(np\u001B[38;5;241m.\u001B[39mzeros((\u001B[38;5;241m1\u001B[39m, \u001B[38;5;241m1\u001B[39m)), D_1, D_2)\n\u001B[1;32m    161\u001B[0m C_dash[\u001B[38;5;241m0\u001B[39m, :] \u001B[38;5;241m=\u001B[39m np\u001B[38;5;241m.\u001B[39mconcatenate(\n\u001B[1;32m    162\u001B[0m     [\n\u001B[1;32m    163\u001B[0m         np\u001B[38;5;241m.\u001B[39marray([lambda_1 \u001B[38;5;241m*\u001B[39m q_k]),\n\u001B[0;32m   (...)\u001B[0m\n\u001B[1;32m    166\u001B[0m     ]\n\u001B[1;32m    167\u001B[0m )\n\u001B[0;32m--> 169\u001B[0m YT, S \u001B[38;5;241m=\u001B[39m \u001B[43m_full_eigen_problem_d_zzt\u001B[49m\u001B[43m(\u001B[49m\u001B[43mC_dash\u001B[49m\u001B[43m,\u001B[49m\u001B[43m \u001B[49m\u001B[43mtol\u001B[49m\u001B[38;5;241;43m=\u001B[39;49m\u001B[43mtol\u001B[49m\u001B[43m)\u001B[49m\n\u001B[1;32m    170\u001B[0m S \u001B[38;5;241m=\u001B[39m np\u001B[38;5;241m.\u001B[39msqrt(S)\n\u001B[1;32m    172\u001B[0m S_inv \u001B[38;5;241m=\u001B[39m inverse_diagonal(S)\n",
      "File \u001B[0;32m~/Documents/UW/MIMUW/WNUMAD/MNUMAD-PZ/divide_and_conquer_svd.py:107\u001B[0m, in \u001B[0;36m_full_eigen_problem_d_zzt\u001B[0;34m(C_dash, tol)\u001B[0m\n\u001B[1;32m    104\u001B[0m D[\u001B[38;5;241m0\u001B[39m, :] \u001B[38;5;241m=\u001B[39m \u001B[38;5;241m0\u001B[39m\n\u001B[1;32m    105\u001B[0m d \u001B[38;5;241m=\u001B[39m D\u001B[38;5;241m.\u001B[39mdiagonal()\u001B[38;5;241m.\u001B[39mcopy() \u001B[38;5;241m*\u001B[39m\u001B[38;5;241m*\u001B[39m \u001B[38;5;241m2\u001B[39m\n\u001B[0;32m--> 107\u001B[0m eigenvalues, eigenvectors \u001B[38;5;241m=\u001B[39m \u001B[43m_deflation\u001B[49m\u001B[43m(\u001B[49m\u001B[43md\u001B[49m\u001B[43m,\u001B[49m\u001B[43m \u001B[49m\u001B[43mz\u001B[49m\u001B[43m,\u001B[49m\u001B[43m \u001B[49m\u001B[43mtol\u001B[49m\u001B[38;5;241;43m=\u001B[39;49m\u001B[43mtol\u001B[49m\u001B[43m)\u001B[49m\n\u001B[1;32m    108\u001B[0m \u001B[38;5;28;01massert\u001B[39;00m np\u001B[38;5;241m.\u001B[39mall(eigenvectors \u001B[38;5;129;01mis\u001B[39;00m \u001B[38;5;129;01mnot\u001B[39;00m \u001B[38;5;28;01mNone\u001B[39;00m)\n\u001B[1;32m    109\u001B[0m YT \u001B[38;5;241m=\u001B[39m np\u001B[38;5;241m.\u001B[39mstack(eigenvectors)\n",
      "File \u001B[0;32m~/Documents/UW/MIMUW/WNUMAD/MNUMAD-PZ/divide_and_conquer_svd.py:534\u001B[0m, in \u001B[0;36m_deflation\u001B[0;34m(d, z, tol)\u001B[0m\n\u001B[1;32m    531\u001B[0m \u001B[38;5;28;01mif\u001B[39;00m \u001B[38;5;28mlen\u001B[39m(shorter_z) \u001B[38;5;241m==\u001B[39m \u001B[38;5;241m0\u001B[39m:\n\u001B[1;32m    532\u001B[0m     \u001B[38;5;28;01mreturn\u001B[39;00m np\u001B[38;5;241m.\u001B[39marray(part_of_eigenvalues), part_of_eigenvactors\n\u001B[0;32m--> 534\u001B[0m eigenvalues, eigenvectors \u001B[38;5;241m=\u001B[39m \u001B[43m_step_2\u001B[49m\u001B[43m(\u001B[49m\n\u001B[1;32m    535\u001B[0m \u001B[43m    \u001B[49m\u001B[43mnp\u001B[49m\u001B[38;5;241;43m.\u001B[39;49m\u001B[43marray\u001B[49m\u001B[43m(\u001B[49m\u001B[43mshorter_d\u001B[49m\u001B[43m)\u001B[49m\u001B[43m,\u001B[49m\u001B[43m \u001B[49m\u001B[43mnp\u001B[49m\u001B[38;5;241;43m.\u001B[39;49m\u001B[43marray\u001B[49m\u001B[43m(\u001B[49m\u001B[43mshorter_z\u001B[49m\u001B[43m)\u001B[49m\u001B[43m,\u001B[49m\u001B[43m \u001B[49m\u001B[43mtol\u001B[49m\u001B[38;5;241;43m=\u001B[39;49m\u001B[43mtol\u001B[49m\n\u001B[1;32m    536\u001B[0m \u001B[43m\u001B[49m\u001B[43m)\u001B[49m\n\u001B[1;32m    538\u001B[0m eigenvectors \u001B[38;5;241m=\u001B[39m [extend_top_vector(v, \u001B[38;5;28mlen\u001B[39m(z)) \u001B[38;5;28;01mfor\u001B[39;00m v \u001B[38;5;129;01min\u001B[39;00m eigenvectors]\n\u001B[1;32m    539\u001B[0m eigenvectors \u001B[38;5;241m=\u001B[39m [P\u001B[38;5;241m.\u001B[39mT \u001B[38;5;241m@\u001B[39m v \u001B[38;5;28;01mfor\u001B[39;00m v \u001B[38;5;129;01min\u001B[39;00m eigenvectors]\n",
      "File \u001B[0;32m~/Documents/UW/MIMUW/WNUMAD/MNUMAD-PZ/divide_and_conquer_svd.py:587\u001B[0m, in \u001B[0;36m_step_2\u001B[0;34m(d, z, tol)\u001B[0m\n\u001B[1;32m    585\u001B[0m new_d \u001B[38;5;241m=\u001B[39m np\u001B[38;5;241m.\u001B[39marray(sorted_d)\n\u001B[1;32m    586\u001B[0m new_z \u001B[38;5;241m=\u001B[39m P \u001B[38;5;241m@\u001B[39m z\n\u001B[0;32m--> 587\u001B[0m eigenvalues, eigenvactors \u001B[38;5;241m=\u001B[39m \u001B[43mfind_eignepairs_of_d_z_matrix\u001B[49m\u001B[43m(\u001B[49m\u001B[43mnew_d\u001B[49m\u001B[43m,\u001B[49m\u001B[43m \u001B[49m\u001B[43mnew_z\u001B[49m\u001B[43m,\u001B[49m\u001B[43m \u001B[49m\u001B[43mtol\u001B[49m\u001B[38;5;241;43m=\u001B[39;49m\u001B[43mtol\u001B[49m\u001B[43m)\u001B[49m\n\u001B[1;32m    588\u001B[0m new_eigenvactors \u001B[38;5;241m=\u001B[39m [P\u001B[38;5;241m.\u001B[39mT \u001B[38;5;241m@\u001B[39m v \u001B[38;5;28;01mfor\u001B[39;00m v \u001B[38;5;129;01min\u001B[39;00m eigenvactors]\n\u001B[1;32m    589\u001B[0m \u001B[38;5;28;01mreturn\u001B[39;00m eigenvalues, new_eigenvactors\n",
      "File \u001B[0;32m~/Documents/UW/MIMUW/WNUMAD/MNUMAD-PZ/divide_and_conquer_svd.py:434\u001B[0m, in \u001B[0;36mfind_eignepairs_of_d_z_matrix\u001B[0;34m(d, z, tol)\u001B[0m\n\u001B[1;32m    426\u001B[0m \u001B[38;5;250m\u001B[39m\u001B[38;5;124;03m\"\"\"\u001B[39;00m\n\u001B[1;32m    427\u001B[0m \u001B[38;5;124;03mFinds the eigenvalues and eigenvectors of the matrix D + z^T z\u001B[39;00m\n\u001B[1;32m    428\u001B[0m \u001B[38;5;124;03m@param d: Parameter vector (N)\u001B[39;00m\n\u001B[0;32m   (...)\u001B[0m\n\u001B[1;32m    431\u001B[0m \u001B[38;5;124;03m@return: Eigenvalues and eigenvectors of D + z^T z\u001B[39;00m\n\u001B[1;32m    432\u001B[0m \u001B[38;5;124;03m\"\"\"\u001B[39;00m\n\u001B[1;32m    433\u001B[0m \u001B[38;5;66;03m# d, z = _deflation(d, z, tol)\u001B[39;00m\n\u001B[0;32m--> 434\u001B[0m eigenvalues \u001B[38;5;241m=\u001B[39m \u001B[43m_find_eigenvalue_of_d_z_matrix\u001B[49m\u001B[43m(\u001B[49m\u001B[43md\u001B[49m\u001B[43m,\u001B[49m\u001B[43m \u001B[49m\u001B[43mz\u001B[49m\u001B[43m,\u001B[49m\u001B[43m \u001B[49m\u001B[43mtol\u001B[49m\u001B[43m)\u001B[49m\n\u001B[1;32m    435\u001B[0m eigenvectors \u001B[38;5;241m=\u001B[39m _find_eigenvectors_of_d_z_matrix(d, z, eigenvalues, tol)\n\u001B[1;32m    436\u001B[0m \u001B[38;5;28;01mreturn\u001B[39;00m eigenvalues, eigenvectors\n",
      "File \u001B[0;32m~/Documents/UW/MIMUW/WNUMAD/MNUMAD-PZ/divide_and_conquer_svd.py:384\u001B[0m, in \u001B[0;36m_find_eigenvalue_of_d_z_matrix\u001B[0;34m(d, z, tol)\u001B[0m\n\u001B[1;32m    376\u001B[0m \u001B[38;5;250m\u001B[39m\u001B[38;5;124;03m\"\"\"\u001B[39;00m\n\u001B[1;32m    377\u001B[0m \u001B[38;5;124;03mFinds the eigenvalues of the matrix D - Z^T Z\u001B[39;00m\n\u001B[1;32m    378\u001B[0m \u001B[38;5;124;03m@param d: Parameter vector (N)\u001B[39;00m\n\u001B[0;32m   (...)\u001B[0m\n\u001B[1;32m    381\u001B[0m \u001B[38;5;124;03m@return: Eigenvalues of D - Z^T Z\u001B[39;00m\n\u001B[1;32m    382\u001B[0m \u001B[38;5;124;03m\"\"\"\u001B[39;00m\n\u001B[1;32m    383\u001B[0m f \u001B[38;5;241m=\u001B[39m LambdaFunction(z, d)\n\u001B[0;32m--> 384\u001B[0m zeros \u001B[38;5;241m=\u001B[39m \u001B[43m_find_all_zeros\u001B[49m\u001B[43m(\u001B[49m\u001B[43mf\u001B[49m\u001B[43m,\u001B[49m\u001B[43m \u001B[49m\u001B[43mtol\u001B[49m\u001B[43m)\u001B[49m\n\u001B[1;32m    385\u001B[0m \u001B[38;5;28;01mreturn\u001B[39;00m zeros\n",
      "File \u001B[0;32m~/Documents/UW/MIMUW/WNUMAD/MNUMAD-PZ/divide_and_conquer_svd.py:369\u001B[0m, in \u001B[0;36m_find_all_zeros\u001B[0;34m(f, tol)\u001B[0m\n\u001B[1;32m    367\u001B[0m     zero_i \u001B[38;5;241m=\u001B[39m _find_zero_in(f, d_i, d_i1, tol)\n\u001B[1;32m    368\u001B[0m     zeros\u001B[38;5;241m.\u001B[39mappend(zero_i)\n\u001B[0;32m--> 369\u001B[0m zeros\u001B[38;5;241m.\u001B[39mappend(\u001B[43m_find_zero_after\u001B[49m\u001B[43m(\u001B[49m\u001B[43mf\u001B[49m\u001B[43m,\u001B[49m\u001B[43m \u001B[49m\u001B[43mf\u001B[49m\u001B[38;5;241;43m.\u001B[39;49m\u001B[43md\u001B[49m\u001B[43m[\u001B[49m\u001B[38;5;241;43m-\u001B[39;49m\u001B[38;5;241;43m1\u001B[39;49m\u001B[43m]\u001B[49m\u001B[43m,\u001B[49m\u001B[43m \u001B[49m\u001B[43mtol\u001B[49m\u001B[43m)\u001B[49m)\n\u001B[1;32m    370\u001B[0m \u001B[38;5;28;01mreturn\u001B[39;00m np\u001B[38;5;241m.\u001B[39marray(zeros)\n",
      "File \u001B[0;32m~/Documents/UW/MIMUW/WNUMAD/MNUMAD-PZ/divide_and_conquer_svd.py:316\u001B[0m, in \u001B[0;36m_find_zero_after\u001B[0;34m(f, a, tol)\u001B[0m\n\u001B[1;32m    314\u001B[0m     step \u001B[38;5;241m*\u001B[39m\u001B[38;5;241m=\u001B[39m \u001B[38;5;241m2\u001B[39m\n\u001B[1;32m    315\u001B[0m \u001B[38;5;28;01massert\u001B[39;00m a \u001B[38;5;241m<\u001B[39m maybe_b\n\u001B[0;32m--> 316\u001B[0m \u001B[38;5;28;01mreturn\u001B[39;00m \u001B[43m_find_zero_in\u001B[49m\u001B[43m(\u001B[49m\u001B[43mf\u001B[49m\u001B[43m,\u001B[49m\u001B[43m \u001B[49m\u001B[43ma\u001B[49m\u001B[43m,\u001B[49m\u001B[43m \u001B[49m\u001B[43mmaybe_b\u001B[49m\u001B[43m,\u001B[49m\u001B[43m \u001B[49m\u001B[43mtol\u001B[49m\u001B[43m,\u001B[49m\u001B[43m \u001B[49m\u001B[43mis_last\u001B[49m\u001B[38;5;241;43m=\u001B[39;49m\u001B[38;5;28;43;01mTrue\u001B[39;49;00m\u001B[43m)\u001B[49m\n",
      "File \u001B[0;32m~/Documents/UW/MIMUW/WNUMAD/MNUMAD-PZ/divide_and_conquer_svd.py:291\u001B[0m, in \u001B[0;36m_find_zero_in\u001B[0;34m(f, a, b, tol, is_last)\u001B[0m\n\u001B[1;32m    289\u001B[0m c \u001B[38;5;241m=\u001B[39m (a \u001B[38;5;241m+\u001B[39m b) \u001B[38;5;241m/\u001B[39m \u001B[38;5;241m2\u001B[39m\n\u001B[1;32m    290\u001B[0m max_iteration \u001B[38;5;241m=\u001B[39m \u001B[38;5;241m1000\u001B[39m\n\u001B[0;32m--> 291\u001B[0m \u001B[38;5;28;01mwhile\u001B[39;00m \u001B[38;5;28mabs\u001B[39m(f_c \u001B[38;5;241m:=\u001B[39m \u001B[43mf\u001B[49m\u001B[43m(\u001B[49m\u001B[43mc\u001B[49m\u001B[43m)\u001B[49m) \u001B[38;5;241m>\u001B[39m tol:\n\u001B[1;32m    292\u001B[0m     \u001B[38;5;28;01mif\u001B[39;00m (max_iteration \u001B[38;5;241m:=\u001B[39m max_iteration \u001B[38;5;241m-\u001B[39m \u001B[38;5;241m1\u001B[39m) \u001B[38;5;241m==\u001B[39m \u001B[38;5;241m0\u001B[39m:\n\u001B[1;32m    293\u001B[0m         \u001B[38;5;28;01mbreak\u001B[39;00m\n",
      "File \u001B[0;32m~/Documents/UW/MIMUW/WNUMAD/MNUMAD-PZ/divide_and_conquer_svd.py:272\u001B[0m, in \u001B[0;36mLambdaFunction.__call__\u001B[0;34m(self, *args, **kwargs)\u001B[0m\n\u001B[1;32m    270\u001B[0m \u001B[38;5;28;01mif\u001B[39;00m np\u001B[38;5;241m.\u001B[39many(np\u001B[38;5;241m.\u001B[39mabs(\u001B[38;5;28mself\u001B[39m\u001B[38;5;241m.\u001B[39md \u001B[38;5;241m-\u001B[39m x) \u001B[38;5;241m<\u001B[39m \u001B[38;5;241m1e-10\u001B[39m):\n\u001B[1;32m    271\u001B[0m     \u001B[38;5;28;01mraise\u001B[39;00m \u001B[38;5;167;01mRuntimeError\u001B[39;00m(\u001B[38;5;124m\"\u001B[39m\u001B[38;5;124mZero in divide\u001B[39m\u001B[38;5;124m\"\u001B[39m)\n\u001B[0;32m--> 272\u001B[0m \u001B[38;5;28;01mreturn\u001B[39;00m \u001B[38;5;241m1\u001B[39m \u001B[38;5;241m+\u001B[39m \u001B[43mnp\u001B[49m\u001B[38;5;241;43m.\u001B[39;49m\u001B[43msum\u001B[49m\u001B[43m(\u001B[49m\u001B[38;5;28;43mself\u001B[39;49m\u001B[38;5;241;43m.\u001B[39;49m\u001B[43mz\u001B[49m\u001B[38;5;241;43m*\u001B[39;49m\u001B[38;5;241;43m*\u001B[39;49m\u001B[38;5;241;43m2\u001B[39;49m\u001B[43m \u001B[49m\u001B[38;5;241;43m/\u001B[39;49m\u001B[43m \u001B[49m\u001B[43m(\u001B[49m\u001B[38;5;28;43mself\u001B[39;49m\u001B[38;5;241;43m.\u001B[39;49m\u001B[43md\u001B[49m\u001B[43m \u001B[49m\u001B[38;5;241;43m-\u001B[39;49m\u001B[43m \u001B[49m\u001B[43mx\u001B[49m\u001B[43m)\u001B[49m\u001B[43m)\u001B[49m\n",
      "File \u001B[0;32m<__array_function__ internals>:180\u001B[0m, in \u001B[0;36msum\u001B[0;34m(*args, **kwargs)\u001B[0m\n",
      "File \u001B[0;32m~/Documents/UW/MIMUW/WNUMAD/MNUMAD-PZ/venv/lib/python3.10/site-packages/numpy/core/fromnumeric.py:2183\u001B[0m, in \u001B[0;36m_sum_dispatcher\u001B[0;34m(a, axis, dtype, out, keepdims, initial, where)\u001B[0m\n\u001B[1;32m   2113\u001B[0m \u001B[38;5;250m    \u001B[39m\u001B[38;5;124;03m\"\"\"\u001B[39;00m\n\u001B[1;32m   2114\u001B[0m \u001B[38;5;124;03m    Clip (limit) the values in an array.\u001B[39;00m\n\u001B[1;32m   2115\u001B[0m \n\u001B[0;32m   (...)\u001B[0m\n\u001B[1;32m   2178\u001B[0m \n\u001B[1;32m   2179\u001B[0m \u001B[38;5;124;03m    \"\"\"\u001B[39;00m\n\u001B[1;32m   2180\u001B[0m     \u001B[38;5;28;01mreturn\u001B[39;00m _wrapfunc(a, \u001B[38;5;124m'\u001B[39m\u001B[38;5;124mclip\u001B[39m\u001B[38;5;124m'\u001B[39m, a_min, a_max, out\u001B[38;5;241m=\u001B[39mout, \u001B[38;5;241m*\u001B[39m\u001B[38;5;241m*\u001B[39mkwargs)\n\u001B[0;32m-> 2183\u001B[0m \u001B[38;5;28;01mdef\u001B[39;00m \u001B[38;5;21m_sum_dispatcher\u001B[39m(a, axis\u001B[38;5;241m=\u001B[39m\u001B[38;5;28;01mNone\u001B[39;00m, dtype\u001B[38;5;241m=\u001B[39m\u001B[38;5;28;01mNone\u001B[39;00m, out\u001B[38;5;241m=\u001B[39m\u001B[38;5;28;01mNone\u001B[39;00m, keepdims\u001B[38;5;241m=\u001B[39m\u001B[38;5;28;01mNone\u001B[39;00m,\n\u001B[1;32m   2184\u001B[0m                     initial\u001B[38;5;241m=\u001B[39m\u001B[38;5;28;01mNone\u001B[39;00m, where\u001B[38;5;241m=\u001B[39m\u001B[38;5;28;01mNone\u001B[39;00m):\n\u001B[1;32m   2185\u001B[0m     \u001B[38;5;28;01mreturn\u001B[39;00m (a, out)\n\u001B[1;32m   2188\u001B[0m \u001B[38;5;129m@array_function_dispatch\u001B[39m(_sum_dispatcher)\n\u001B[1;32m   2189\u001B[0m \u001B[38;5;28;01mdef\u001B[39;00m \u001B[38;5;21msum\u001B[39m(a, axis\u001B[38;5;241m=\u001B[39m\u001B[38;5;28;01mNone\u001B[39;00m, dtype\u001B[38;5;241m=\u001B[39m\u001B[38;5;28;01mNone\u001B[39;00m, out\u001B[38;5;241m=\u001B[39m\u001B[38;5;28;01mNone\u001B[39;00m, keepdims\u001B[38;5;241m=\u001B[39mnp\u001B[38;5;241m.\u001B[39m_NoValue,\n\u001B[1;32m   2190\u001B[0m         initial\u001B[38;5;241m=\u001B[39mnp\u001B[38;5;241m.\u001B[39m_NoValue, where\u001B[38;5;241m=\u001B[39mnp\u001B[38;5;241m.\u001B[39m_NoValue):\n",
      "\u001B[0;31mKeyboardInterrupt\u001B[0m: "
     ]
    }
   ],
   "source": [
    "compress_image('paris.jpg')"
   ],
   "metadata": {
    "collapsed": false,
    "ExecuteTime": {
     "end_time": "2023-06-20T16:15:55.182561096Z",
     "start_time": "2023-06-20T16:15:36.216638726Z"
    }
   }
  },
  {
   "cell_type": "code",
   "execution_count": null,
   "outputs": [],
   "source": [
    "compress_image('mimlogo.jpg')"
   ],
   "metadata": {
    "collapsed": false,
    "ExecuteTime": {
     "start_time": "2023-06-20T16:15:55.181398957Z"
    }
   }
  },
  {
   "cell_type": "code",
   "execution_count": null,
   "outputs": [],
   "source": [
    "compress_image('monolog.png', k=40, max_len=400)"
   ],
   "metadata": {
    "collapsed": false,
    "ExecuteTime": {
     "start_time": "2023-06-20T16:15:55.181642254Z"
    }
   }
  },
  {
   "cell_type": "markdown",
   "source": [
    "Przykłady losowych macierzy."
   ],
   "metadata": {
    "collapsed": false
   }
  },
  {
   "cell_type": "code",
   "execution_count": null,
   "outputs": [],
   "source": [
    "N = 40\n",
    "D_ij = np.zeros((N, N))\n",
    "for i in range(N):\n",
    "    for j in range(N):\n",
    "        random_A = np.random.randn(i, j)\n",
    "        u_i, s_i, vt_i = divide_and_conquer_svd(random_A, tol=1e-10)\n",
    "        diff = np.linalg.norm(u_i @ s_i @ vt_i - random_A)\n",
    "\n",
    "        D_ij[i, j] = diff\n",
    "\n",
    "plt.imshow(D_ij, cmap='hot', interpolation='nearest')\n",
    "plt.colorbar()\n",
    "plt.title('$||U\\cdot S\\cdot V^T - A||$ dla $A \\in \\mathbb{R}^{m, n}$')\n",
    "plt.ylabel(\"Wymiar m\")\n",
    "plt.xlabel(\"Wymiar n\")\n",
    "plt.show()"
   ],
   "metadata": {
    "collapsed": false,
    "is_executing": true,
    "ExecuteTime": {
     "start_time": "2023-06-20T16:27:03.623215178Z"
    }
   }
  }
 ],
 "metadata": {
  "kernelspec": {
   "display_name": "Python 3",
   "language": "python",
   "name": "python3"
  },
  "language_info": {
   "codemirror_mode": {
    "name": "ipython",
    "version": 2
   },
   "file_extension": ".py",
   "mimetype": "text/x-python",
   "name": "python",
   "nbconvert_exporter": "python",
   "pygments_lexer": "ipython2",
   "version": "2.7.6"
  }
 },
 "nbformat": 4,
 "nbformat_minor": 0
}
